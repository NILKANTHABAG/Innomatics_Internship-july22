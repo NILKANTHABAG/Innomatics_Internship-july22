{
 "cells": [
  {
   "cell_type": "code",
   "execution_count": 1,
   "id": "f315d2f5",
   "metadata": {},
   "outputs": [],
   "source": [
    "import pandas as pd\n",
    "import numpy as np\n",
    "\n",
    "import matplotlib.pyplot as plt\n",
    "import seaborn as sns"
   ]
  },
  {
   "cell_type": "code",
   "execution_count": 2,
   "id": "6f5dcb6c",
   "metadata": {},
   "outputs": [
    {
     "data": {
      "text/html": [
       "<div>\n",
       "<style scoped>\n",
       "    .dataframe tbody tr th:only-of-type {\n",
       "        vertical-align: middle;\n",
       "    }\n",
       "\n",
       "    .dataframe tbody tr th {\n",
       "        vertical-align: top;\n",
       "    }\n",
       "\n",
       "    .dataframe thead th {\n",
       "        text-align: right;\n",
       "    }\n",
       "</style>\n",
       "<table border=\"1\" class=\"dataframe\">\n",
       "  <thead>\n",
       "    <tr style=\"text-align: right;\">\n",
       "      <th></th>\n",
       "      <th>carat</th>\n",
       "      <th>cut</th>\n",
       "      <th>color</th>\n",
       "      <th>clarity</th>\n",
       "      <th>depth</th>\n",
       "      <th>table</th>\n",
       "      <th>price</th>\n",
       "      <th>x</th>\n",
       "      <th>y</th>\n",
       "      <th>z</th>\n",
       "    </tr>\n",
       "  </thead>\n",
       "  <tbody>\n",
       "    <tr>\n",
       "      <th>0</th>\n",
       "      <td>0.23</td>\n",
       "      <td>Ideal</td>\n",
       "      <td>E</td>\n",
       "      <td>SI2</td>\n",
       "      <td>61.5</td>\n",
       "      <td>55.0</td>\n",
       "      <td>326</td>\n",
       "      <td>3.95</td>\n",
       "      <td>3.98</td>\n",
       "      <td>2.43</td>\n",
       "    </tr>\n",
       "    <tr>\n",
       "      <th>1</th>\n",
       "      <td>0.21</td>\n",
       "      <td>Premium</td>\n",
       "      <td>E</td>\n",
       "      <td>SI1</td>\n",
       "      <td>59.8</td>\n",
       "      <td>61.0</td>\n",
       "      <td>326</td>\n",
       "      <td>3.89</td>\n",
       "      <td>3.84</td>\n",
       "      <td>2.31</td>\n",
       "    </tr>\n",
       "    <tr>\n",
       "      <th>2</th>\n",
       "      <td>0.23</td>\n",
       "      <td>Good</td>\n",
       "      <td>E</td>\n",
       "      <td>VS1</td>\n",
       "      <td>56.9</td>\n",
       "      <td>65.0</td>\n",
       "      <td>327</td>\n",
       "      <td>4.05</td>\n",
       "      <td>4.07</td>\n",
       "      <td>2.31</td>\n",
       "    </tr>\n",
       "    <tr>\n",
       "      <th>3</th>\n",
       "      <td>0.29</td>\n",
       "      <td>Premium</td>\n",
       "      <td>I</td>\n",
       "      <td>VS2</td>\n",
       "      <td>62.4</td>\n",
       "      <td>58.0</td>\n",
       "      <td>334</td>\n",
       "      <td>4.20</td>\n",
       "      <td>4.23</td>\n",
       "      <td>2.63</td>\n",
       "    </tr>\n",
       "    <tr>\n",
       "      <th>4</th>\n",
       "      <td>0.31</td>\n",
       "      <td>Good</td>\n",
       "      <td>J</td>\n",
       "      <td>SI2</td>\n",
       "      <td>63.3</td>\n",
       "      <td>58.0</td>\n",
       "      <td>335</td>\n",
       "      <td>4.34</td>\n",
       "      <td>4.35</td>\n",
       "      <td>2.75</td>\n",
       "    </tr>\n",
       "  </tbody>\n",
       "</table>\n",
       "</div>"
      ],
      "text/plain": [
       "   carat      cut color clarity  depth  table  price     x     y     z\n",
       "0   0.23    Ideal     E     SI2   61.5   55.0    326  3.95  3.98  2.43\n",
       "1   0.21  Premium     E     SI1   59.8   61.0    326  3.89  3.84  2.31\n",
       "2   0.23     Good     E     VS1   56.9   65.0    327  4.05  4.07  2.31\n",
       "3   0.29  Premium     I     VS2   62.4   58.0    334  4.20  4.23  2.63\n",
       "4   0.31     Good     J     SI2   63.3   58.0    335  4.34  4.35  2.75"
      ]
     },
     "execution_count": 2,
     "metadata": {},
     "output_type": "execute_result"
    }
   ],
   "source": [
    "# Load the data\n",
    "df = pd.read_csv('diamonds.csv')\n",
    "df.head()"
   ]
  },
  {
   "cell_type": "code",
   "execution_count": 3,
   "id": "fa0f1957",
   "metadata": {},
   "outputs": [],
   "source": [
    "df.rename(columns={'cut': 'cut_quality', 'x': 'length_mm',\n",
    "                   'y': 'width_mm', 'z': 'height_mm'}, inplace=True)"
   ]
  },
  {
   "cell_type": "code",
   "execution_count": 4,
   "id": "345e47b7",
   "metadata": {},
   "outputs": [
    {
     "data": {
      "text/plain": [
       "(53940, 10)"
      ]
     },
     "execution_count": 4,
     "metadata": {},
     "output_type": "execute_result"
    }
   ],
   "source": [
    "df.shape"
   ]
  },
  {
   "cell_type": "markdown",
   "id": "6edaf95a",
   "metadata": {},
   "source": [
    "# EDA"
   ]
  },
  {
   "cell_type": "code",
   "execution_count": 5,
   "id": "2689aea2",
   "metadata": {},
   "outputs": [
    {
     "data": {
      "text/html": [
       "<div>\n",
       "<style scoped>\n",
       "    .dataframe tbody tr th:only-of-type {\n",
       "        vertical-align: middle;\n",
       "    }\n",
       "\n",
       "    .dataframe tbody tr th {\n",
       "        vertical-align: top;\n",
       "    }\n",
       "\n",
       "    .dataframe thead th {\n",
       "        text-align: right;\n",
       "    }\n",
       "</style>\n",
       "<table border=\"1\" class=\"dataframe\">\n",
       "  <thead>\n",
       "    <tr style=\"text-align: right;\">\n",
       "      <th></th>\n",
       "      <th>carat</th>\n",
       "      <th>depth</th>\n",
       "      <th>table</th>\n",
       "      <th>price</th>\n",
       "      <th>length_mm</th>\n",
       "      <th>width_mm</th>\n",
       "      <th>height_mm</th>\n",
       "    </tr>\n",
       "  </thead>\n",
       "  <tbody>\n",
       "    <tr>\n",
       "      <th>count</th>\n",
       "      <td>53940.000000</td>\n",
       "      <td>53940.000000</td>\n",
       "      <td>53940.000000</td>\n",
       "      <td>53940.000000</td>\n",
       "      <td>53940.000000</td>\n",
       "      <td>53940.000000</td>\n",
       "      <td>53940.000000</td>\n",
       "    </tr>\n",
       "    <tr>\n",
       "      <th>mean</th>\n",
       "      <td>0.797940</td>\n",
       "      <td>61.749405</td>\n",
       "      <td>57.457184</td>\n",
       "      <td>3932.799722</td>\n",
       "      <td>5.731157</td>\n",
       "      <td>5.734526</td>\n",
       "      <td>3.538734</td>\n",
       "    </tr>\n",
       "    <tr>\n",
       "      <th>std</th>\n",
       "      <td>0.474011</td>\n",
       "      <td>1.432621</td>\n",
       "      <td>2.234491</td>\n",
       "      <td>3989.439738</td>\n",
       "      <td>1.121761</td>\n",
       "      <td>1.142135</td>\n",
       "      <td>0.705699</td>\n",
       "    </tr>\n",
       "    <tr>\n",
       "      <th>min</th>\n",
       "      <td>0.200000</td>\n",
       "      <td>43.000000</td>\n",
       "      <td>43.000000</td>\n",
       "      <td>326.000000</td>\n",
       "      <td>0.000000</td>\n",
       "      <td>0.000000</td>\n",
       "      <td>0.000000</td>\n",
       "    </tr>\n",
       "    <tr>\n",
       "      <th>25%</th>\n",
       "      <td>0.400000</td>\n",
       "      <td>61.000000</td>\n",
       "      <td>56.000000</td>\n",
       "      <td>950.000000</td>\n",
       "      <td>4.710000</td>\n",
       "      <td>4.720000</td>\n",
       "      <td>2.910000</td>\n",
       "    </tr>\n",
       "    <tr>\n",
       "      <th>50%</th>\n",
       "      <td>0.700000</td>\n",
       "      <td>61.800000</td>\n",
       "      <td>57.000000</td>\n",
       "      <td>2401.000000</td>\n",
       "      <td>5.700000</td>\n",
       "      <td>5.710000</td>\n",
       "      <td>3.530000</td>\n",
       "    </tr>\n",
       "    <tr>\n",
       "      <th>75%</th>\n",
       "      <td>1.040000</td>\n",
       "      <td>62.500000</td>\n",
       "      <td>59.000000</td>\n",
       "      <td>5324.250000</td>\n",
       "      <td>6.540000</td>\n",
       "      <td>6.540000</td>\n",
       "      <td>4.040000</td>\n",
       "    </tr>\n",
       "    <tr>\n",
       "      <th>max</th>\n",
       "      <td>5.010000</td>\n",
       "      <td>79.000000</td>\n",
       "      <td>95.000000</td>\n",
       "      <td>18823.000000</td>\n",
       "      <td>10.740000</td>\n",
       "      <td>58.900000</td>\n",
       "      <td>31.800000</td>\n",
       "    </tr>\n",
       "  </tbody>\n",
       "</table>\n",
       "</div>"
      ],
      "text/plain": [
       "              carat         depth         table         price     length_mm  \\\n",
       "count  53940.000000  53940.000000  53940.000000  53940.000000  53940.000000   \n",
       "mean       0.797940     61.749405     57.457184   3932.799722      5.731157   \n",
       "std        0.474011      1.432621      2.234491   3989.439738      1.121761   \n",
       "min        0.200000     43.000000     43.000000    326.000000      0.000000   \n",
       "25%        0.400000     61.000000     56.000000    950.000000      4.710000   \n",
       "50%        0.700000     61.800000     57.000000   2401.000000      5.700000   \n",
       "75%        1.040000     62.500000     59.000000   5324.250000      6.540000   \n",
       "max        5.010000     79.000000     95.000000  18823.000000     10.740000   \n",
       "\n",
       "           width_mm     height_mm  \n",
       "count  53940.000000  53940.000000  \n",
       "mean       5.734526      3.538734  \n",
       "std        1.142135      0.705699  \n",
       "min        0.000000      0.000000  \n",
       "25%        4.720000      2.910000  \n",
       "50%        5.710000      3.530000  \n",
       "75%        6.540000      4.040000  \n",
       "max       58.900000     31.800000  "
      ]
     },
     "execution_count": 5,
     "metadata": {},
     "output_type": "execute_result"
    }
   ],
   "source": [
    "df.describe()"
   ]
  },
  {
   "cell_type": "code",
   "execution_count": 6,
   "id": "30f953ff",
   "metadata": {},
   "outputs": [
    {
     "name": "stdout",
     "output_type": "stream",
     "text": [
      "<class 'pandas.core.frame.DataFrame'>\n",
      "RangeIndex: 53940 entries, 0 to 53939\n",
      "Data columns (total 10 columns):\n",
      " #   Column       Non-Null Count  Dtype  \n",
      "---  ------       --------------  -----  \n",
      " 0   carat        53940 non-null  float64\n",
      " 1   cut_quality  53940 non-null  object \n",
      " 2   color        53940 non-null  object \n",
      " 3   clarity      53940 non-null  object \n",
      " 4   depth        53940 non-null  float64\n",
      " 5   table        53940 non-null  float64\n",
      " 6   price        53940 non-null  int64  \n",
      " 7   length_mm    53940 non-null  float64\n",
      " 8   width_mm     53940 non-null  float64\n",
      " 9   height_mm    53940 non-null  float64\n",
      "dtypes: float64(6), int64(1), object(3)\n",
      "memory usage: 4.1+ MB\n"
     ]
    }
   ],
   "source": [
    "df.info()"
   ]
  },
  {
   "cell_type": "code",
   "execution_count": 7,
   "id": "dfe99ac2",
   "metadata": {},
   "outputs": [
    {
     "data": {
      "text/plain": [
       "carat          0\n",
       "cut_quality    0\n",
       "color          0\n",
       "clarity        0\n",
       "depth          0\n",
       "table          0\n",
       "price          0\n",
       "length_mm      0\n",
       "width_mm       0\n",
       "height_mm      0\n",
       "dtype: int64"
      ]
     },
     "execution_count": 7,
     "metadata": {},
     "output_type": "execute_result"
    }
   ],
   "source": [
    "df.isnull().sum()"
   ]
  },
  {
   "cell_type": "code",
   "execution_count": 8,
   "id": "69be7ac0",
   "metadata": {},
   "outputs": [
    {
     "data": {
      "text/plain": [
       "146"
      ]
     },
     "execution_count": 8,
     "metadata": {},
     "output_type": "execute_result"
    }
   ],
   "source": [
    "df.duplicated().sum()"
   ]
  },
  {
   "cell_type": "code",
   "execution_count": 9,
   "id": "586a6e71",
   "metadata": {},
   "outputs": [],
   "source": [
    "df = df.drop_duplicates()"
   ]
  },
  {
   "cell_type": "code",
   "execution_count": 10,
   "id": "f23bfc88",
   "metadata": {},
   "outputs": [
    {
     "data": {
      "text/plain": [
       "(53794, 10)"
      ]
     },
     "execution_count": 10,
     "metadata": {},
     "output_type": "execute_result"
    }
   ],
   "source": [
    "df.shape"
   ]
  },
  {
   "cell_type": "markdown",
   "id": "f0734080",
   "metadata": {},
   "source": [
    "## Univariate Analysis"
   ]
  },
  {
   "cell_type": "code",
   "execution_count": 11,
   "id": "63892a98",
   "metadata": {},
   "outputs": [
    {
     "name": "stdout",
     "output_type": "stream",
     "text": [
      "Index(['carat', 'depth', 'table', 'price', 'length_mm', 'width_mm',\n",
      "       'height_mm'],\n",
      "      dtype='object')\n"
     ]
    }
   ],
   "source": [
    "num_features = df.select_dtypes(include=['int64','float64'])\n",
    "print(num_features.columns)"
   ]
  },
  {
   "cell_type": "code",
   "execution_count": 12,
   "id": "668a6ac5",
   "metadata": {},
   "outputs": [
    {
     "data": {
      "text/plain": [
       "array([[<AxesSubplot:title={'center':'carat'}>,\n",
       "        <AxesSubplot:title={'center':'depth'}>,\n",
       "        <AxesSubplot:title={'center':'table'}>],\n",
       "       [<AxesSubplot:title={'center':'price'}>,\n",
       "        <AxesSubplot:title={'center':'length_mm'}>,\n",
       "        <AxesSubplot:title={'center':'width_mm'}>],\n",
       "       [<AxesSubplot:title={'center':'height_mm'}>, <AxesSubplot:>,\n",
       "        <AxesSubplot:>]], dtype=object)"
      ]
     },
     "execution_count": 12,
     "metadata": {},
     "output_type": "execute_result"
    },
    {
     "data": {
      "image/png": "[encoded data removed]",
      "text/plain": [
       "<Figure size 1080x720 with 9 Axes>"
      ]
     },
     "metadata": {
      "needs_background": "light"
     },
     "output_type": "display_data"
    }
   ],
   "source": [
    "num_features.hist(figsize=(15,10))"
   ]
  },
  {
   "cell_type": "markdown",
   "id": "1d6fc67b",
   "metadata": {},
   "source": [
    "> Observation\n",
    "\n",
    "- The price feature is right skewed.\n",
    "- The depth feature is very close to a normal distribution.\n",
    "- Since the price is right skewed, the predictive model will be more effective in predicting the lower prices."
   ]
  },
  {
   "cell_type": "code",
   "execution_count": 13,
   "id": "4e005f43",
   "metadata": {},
   "outputs": [
    {
     "name": "stdout",
     "output_type": "stream",
     "text": [
      "Index(['cut_quality', 'color', 'clarity'], dtype='object')\n"
     ]
    }
   ],
   "source": [
    "cat_features = df.select_dtypes(include=['object'])\n",
    "print(cat_features.columns)"
   ]
  },
  {
   "cell_type": "code",
   "execution_count": 14,
   "id": "2809cb53",
   "metadata": {},
   "outputs": [
    {
     "data": {
      "text/plain": [
       "Text(0.5, 1.0, 'Color vs cut_quality')"
      ]
     },
     "execution_count": 14,
     "metadata": {},
     "output_type": "execute_result"
    },
    {
     "data": {
      "image/png": "[encoded data removed]",
      "text/plain": [
       "<Figure size 1728x3456 with 1 Axes>"
      ]
     },
     "metadata": {
      "needs_background": "light"
     },
     "output_type": "display_data"
    }
   ],
   "source": [
    "plt.figure(figsize=(24, 48))\n",
    "\n",
    "plt.subplot(411)\n",
    "sns.countplot(y='cut_quality', hue='color', data = cat_features)\n",
    "plt.title('Color vs cut_quality')"
   ]
  },
  {
   "cell_type": "markdown",
   "id": "1b64d667",
   "metadata": {},
   "source": [
    "> Observation: Cut quality of every colour diamond is mostly Ideal."
   ]
  },
  {
   "cell_type": "code",
   "execution_count": 15,
   "id": "bb7a45de",
   "metadata": {},
   "outputs": [
    {
     "data": {
      "image/png": "[encoded data removed]",
      "text/plain": [
       "<Figure size 720x360 with 1 Axes>"
      ]
     },
     "metadata": {
      "needs_background": "light"
     },
     "output_type": "display_data"
    },
    {
     "data": {
      "image/png": "[encoded data removed]",
      "text/plain": [
       "<Figure size 720x360 with 1 Axes>"
      ]
     },
     "metadata": {
      "needs_background": "light"
     },
     "output_type": "display_data"
    },
    {
     "data": {
      "image/png": "[encoded data removed]",
      "text/plain": [
       "<Figure size 720x360 with 1 Axes>"
      ]
     },
     "metadata": {
      "needs_background": "light"
     },
     "output_type": "display_data"
    },
    {
     "data": {
      "image/png": "[encoded data removed]",
      "text/plain": [
       "<Figure size 720x360 with 1 Axes>"
      ]
     },
     "metadata": {
      "needs_background": "light"
     },
     "output_type": "display_data"
    },
    {
     "data": {
      "image/png": "[encoded data removed]",
      "text/plain": [
       "<Figure size 720x360 with 1 Axes>"
      ]
     },
     "metadata": {
      "needs_background": "light"
     },
     "output_type": "display_data"
    },
    {
     "data": {
      "image/png": "[encoded data removed]",
      "text/plain": [
       "<Figure size 720x360 with 1 Axes>"
      ]
     },
     "metadata": {
      "needs_background": "light"
     },
     "output_type": "display_data"
    },
    {
     "data": {
      "image/png": "[encoded data removed]",
      "text/plain": [
       "<Figure size 720x360 with 1 Axes>"
      ]
     },
     "metadata": {
      "needs_background": "light"
     },
     "output_type": "display_data"
    }
   ],
   "source": [
    "for num_var in num_features:\n",
    "    plt.figure(figsize=(10,5))\n",
    "    sns.boxplot(x=df[num_var])"
   ]
  },
  {
   "cell_type": "markdown",
   "id": "7ead2194",
   "metadata": {},
   "source": [
    "> Observation : There are many outliers in the dataset."
   ]
  },
  {
   "cell_type": "markdown",
   "id": "54e1a091",
   "metadata": {},
   "source": [
    "## Bivariate Analysis"
   ]
  },
  {
   "cell_type": "code",
   "execution_count": 16,
   "id": "293a58ce",
   "metadata": {},
   "outputs": [
    {
     "data": {
      "text/plain": [
       "<AxesSubplot:>"
      ]
     },
     "execution_count": 16,
     "metadata": {},
     "output_type": "execute_result"
    },
    {
     "data": {
      "image/png": "[encoded data removed]",
      "text/plain": [
       "<Figure size 432x288 with 2 Axes>"
      ]
     },
     "metadata": {
      "needs_background": "light"
     },
     "output_type": "display_data"
    }
   ],
   "source": [
    "corr=df.corr()\n",
    "sns.heatmap(corr,annot=True)"
   ]
  },
  {
   "cell_type": "markdown",
   "id": "02d77b73",
   "metadata": {},
   "source": [
    "> Observation: The price is highly influenced by carat, length, width and height features."
   ]
  },
  {
   "cell_type": "markdown",
   "id": "3f358993",
   "metadata": {},
   "source": [
    "# Data Preprocessing"
   ]
  },
  {
   "cell_type": "code",
   "execution_count": 17,
   "id": "d2dab7b3",
   "metadata": {},
   "outputs": [
    {
     "name": "stderr",
     "output_type": "stream",
     "text": [
      "C:\\Users\\smart\\AppData\\Local\\Temp\\ipykernel_1572\\3673224885.py:1: DeprecationWarning: `np.object` is a deprecated alias for the builtin `object`. To silence this warning, use `object` by itself. Doing this will not modify any behavior and is safe. \n",
      "Deprecated in NumPy 1.20; for more details and guidance: https://numpy.org/devdocs/release/1.20.0-notes.html#deprecations\n",
      "  num_df = df.select_dtypes(exclude=[np.object])\n"
     ]
    }
   ],
   "source": [
    "num_df = df.select_dtypes(exclude=[np.object])\n",
    "cat_df = df.select_dtypes(exclude=[np.float64, np.int64])"
   ]
  },
  {
   "cell_type": "code",
   "execution_count": 18,
   "id": "fb62ae11",
   "metadata": {},
   "outputs": [
    {
     "data": {
      "image/png": "[encoded data removed]",
      "text/plain": [
       "<Figure size 1800x1080 with 7 Axes>"
      ]
     },
     "metadata": {
      "needs_background": "light"
     },
     "output_type": "display_data"
    }
   ],
   "source": [
    "plt.subplots(figsize=(25, 15))\n",
    "count = 1\n",
    "while(count < 8):\n",
    "    for i in num_df.columns:\n",
    "        plt.subplot(3, 3, count)\n",
    "        sns.boxplot(x=df[i])\n",
    "        count += 1\n",
    "plt.show()"
   ]
  },
  {
   "cell_type": "code",
   "execution_count": 19,
   "id": "9ff16116",
   "metadata": {},
   "outputs": [],
   "source": [
    "# IQR\n",
    "def remove_outlier_IQR(df, field_name):\n",
    "    iqr = 1.5 * (np.percentile(df[field_name], 75) -\n",
    "                 np.percentile(df[field_name], 25))\n",
    "    df.drop(df[df[field_name] > (\n",
    "        iqr + np.percentile(df[field_name], 75))].index, inplace=True)\n",
    "    df.drop(df[df[field_name] < (np.percentile(\n",
    "        df[field_name], 25) - iqr)].index, inplace=True)\n",
    "    return df"
   ]
  },
  {
   "cell_type": "code",
   "execution_count": 20,
   "id": "7a935faa",
   "metadata": {},
   "outputs": [
    {
     "name": "stdout",
     "output_type": "stream",
     "text": [
      "Shape of df before IQR: (53794, 10)\n",
      "Shape of df after IQR: (46413, 10)\n"
     ]
    }
   ],
   "source": [
    "print('Shape of df before IQR:',df.shape)\n",
    "\n",
    "df2 = remove_outlier_IQR(df, 'carat')\n",
    "df2 = remove_outlier_IQR(df2, 'depth')\n",
    "df2 = remove_outlier_IQR(df2, 'price')\n",
    "df2 = remove_outlier_IQR(df2, 'table')\n",
    "df2 = remove_outlier_IQR(df2, 'height_mm')\n",
    "df2 = remove_outlier_IQR(df2, 'length_mm')\n",
    "df_final = remove_outlier_IQR(df2, 'width_mm')\n",
    "print('Shape of df after IQR:',df_final.shape)"
   ]
  },
  {
   "cell_type": "code",
   "execution_count": 21,
   "id": "4b8e474b",
   "metadata": {},
   "outputs": [
    {
     "data": {
      "image/png": "[encoded data removed]",
      "text/plain": [
       "<Figure size 1800x1080 with 7 Axes>"
      ]
     },
     "metadata": {
      "needs_background": "light"
     },
     "output_type": "display_data"
    }
   ],
   "source": [
    "plt.subplots(figsize=(25, 15))\n",
    "count = 1\n",
    "while(count < 8):\n",
    "    for i in num_df.columns:\n",
    "        plt.subplot(3, 3, count)\n",
    "        sns.boxplot(x=df_final[i])\n",
    "        count += 1\n",
    "plt.show()"
   ]
  },
  {
   "cell_type": "markdown",
   "id": "60e36616",
   "metadata": {},
   "source": [
    "# Feature Transformation"
   ]
  },
  {
   "cell_type": "code",
   "execution_count": 22,
   "id": "55239c8d",
   "metadata": {},
   "outputs": [
    {
     "data": {
      "text/plain": [
       "cut_quality    object\n",
       "color          object\n",
       "clarity        object\n",
       "dtype: object"
      ]
     },
     "execution_count": 22,
     "metadata": {},
     "output_type": "execute_result"
    }
   ],
   "source": [
    "df. dtypes[df. dtypes == 'object']"
   ]
  },
  {
   "cell_type": "code",
   "execution_count": 23,
   "id": "294c113c",
   "metadata": {},
   "outputs": [
    {
     "name": "stdout",
     "output_type": "stream",
     "text": [
      "['Ideal' 'Premium' 'Good' 'Very Good' 'Fair']\n",
      "['E' 'I' 'J' 'H' 'F' 'G' 'D']\n",
      "['SI2' 'SI1' 'VS2' 'VVS2' 'VVS1' 'VS1' 'I1' 'IF']\n"
     ]
    }
   ],
   "source": [
    "print(df['cut_quality'].unique())\n",
    "print(df['color'].unique())\n",
    "print(df['clarity'].unique())"
   ]
  },
  {
   "cell_type": "code",
   "execution_count": 24,
   "id": "6d33e9f5",
   "metadata": {},
   "outputs": [],
   "source": [
    "from sklearn import preprocessing\n",
    "label_encoder = preprocessing.LabelEncoder()"
   ]
  },
  {
   "cell_type": "code",
   "execution_count": 25,
   "id": "a4a879f3",
   "metadata": {},
   "outputs": [
    {
     "name": "stdout",
     "output_type": "stream",
     "text": [
      "[2 3 1 4 0]\n",
      "[1 5 6 4 2 3 0]\n",
      "[3 2 5 7 6 4 0 1]\n"
     ]
    }
   ],
   "source": [
    "df['cut_quality']= label_encoder.fit_transform(df['cut_quality'])\n",
    "df['color']= label_encoder.fit_transform(df['color'])\n",
    "df['clarity']= label_encoder.fit_transform(df['clarity'])\n",
    "  \n",
    "print(df['cut_quality'].unique())\n",
    "print(df['color'].unique())\n",
    "print(df['clarity'].unique())"
   ]
  },
  {
   "cell_type": "markdown",
   "id": "f15296dc",
   "metadata": {},
   "source": [
    "# Data Splitting for training and testing"
   ]
  },
  {
   "cell_type": "code",
   "execution_count": 26,
   "id": "5a2dc2b2",
   "metadata": {},
   "outputs": [
    {
     "name": "stdout",
     "output_type": "stream",
     "text": [
      "X train shape: (34809, 9) and y train shape: (34809,)\n",
      "X test shape: (11604, 9) and y test shape: (11604,)\n"
     ]
    }
   ],
   "source": [
    "from sklearn.preprocessing import StandardScaler\n",
    "from sklearn.model_selection import train_test_split\n",
    "\n",
    "X = df.drop(columns=['price'])\n",
    "y = df['price']\n",
    "\n",
    "# Scaling the data\n",
    "scaler = StandardScaler()\n",
    "scaled_df = scaler.fit_transform(X)\n",
    "\n",
    "X_train, X_test, y_train, y_test = train_test_split(\n",
    "    scaled_df, y, test_size=0.25)\n",
    "print(\"X train shape: {} and y train shape: {}\".format(\n",
    "    X_train.shape, y_train.shape))\n",
    "print(\"X test shape: {} and y test shape: {}\".format(X_test.shape, y_test.shape))"
   ]
  },
  {
   "cell_type": "markdown",
   "id": "3de27e8d",
   "metadata": {},
   "source": [
    "# Model Training and Evaluation"
   ]
  },
  {
   "cell_type": "markdown",
   "id": "5e9247b2",
   "metadata": {},
   "source": [
    "## KNN from scratch"
   ]
  },
  {
   "cell_type": "code",
   "execution_count": 27,
   "id": "43073820",
   "metadata": {},
   "outputs": [
    {
     "data": {
      "text/plain": [
       "array([[ 5.57516699e-03, -6.61823601e-01,  2.75863001e-01,\n",
       "        -1.66908679e+00, -1.48807787e+00, -1.19098450e-01,\n",
       "         2.68083711e-01,  3.27031634e-01,  1.44089896e-01,\n",
       "         3.67200000e+03],\n",
       "       [-4.92093821e-01, -6.61823601e-01, -9.10976958e-01,\n",
       "        -1.09090339e+00, -7.45744303e-01, -1.19098450e-01,\n",
       "        -3.12895839e-01, -3.40969003e-01, -3.92040824e-01,\n",
       "         1.68200000e+03]])"
      ]
     },
     "execution_count": 27,
     "metadata": {},
     "output_type": "execute_result"
    }
   ],
   "source": [
    "train = np.array(X_train)\n",
    "y_train = np.array(y_train)\n",
    "\n",
    "# reshaping the array from columns to rows\n",
    "y_train = y_train.reshape(-1, 1)\n",
    "\n",
    "# combining the training dataset and the y_train into a matrix\n",
    "train_df = np.hstack([train, y_train])\n",
    "train_df[0:2]"
   ]
  },
  {
   "cell_type": "code",
   "execution_count": 28,
   "id": "f388a235",
   "metadata": {},
   "outputs": [
    {
     "data": {
      "text/plain": [
       "array([-0.5197421 ,  0.39834133,  0.275863  ,  0.64364683,  0.73892283,\n",
       "       -0.11909845, -0.38551828, -0.4453441 , -0.34177857])"
      ]
     },
     "execution_count": 28,
     "metadata": {},
     "output_type": "execute_result"
    }
   ],
   "source": [
    "test = np.array(X_test)\n",
    "test[0]"
   ]
  },
  {
   "cell_type": "code",
   "execution_count": 29,
   "id": "50a2a2d8",
   "metadata": {},
   "outputs": [
    {
     "data": {
      "text/plain": [
       "array([1625. , 3859.4, 2571.4, ..., 6547.2, 2446.8, 1765.4])"
      ]
     },
     "execution_count": 29,
     "metadata": {},
     "output_type": "execute_result"
    }
   ],
   "source": [
    "preds = []\n",
    "for i in range(len(test)):\n",
    "    distances = np.sqrt(np.sum((train - test[i])**2, axis = 1))\n",
    "    distances = distances.reshape(-1,1)\n",
    "    matrix = np.hstack([train_df, distances])\n",
    "    sorted_matrix = matrix[matrix[:,-1].argsort()]\n",
    "    neighbours = [sorted_matrix[i][-2] for i in range(5)]\n",
    "    pred_value = np.mean(neighbours)\n",
    "    preds.append(pred_value)\n",
    "\n",
    "knn_scratch_pred = np.array(preds)\n",
    "knn_scratch_pred"
   ]
  },
  {
   "cell_type": "markdown",
   "id": "76701841",
   "metadata": {},
   "source": [
    "## Using sklearn"
   ]
  },
  {
   "cell_type": "code",
   "execution_count": 30,
   "id": "4ef8cb02",
   "metadata": {},
   "outputs": [
    {
     "name": "stdout",
     "output_type": "stream",
     "text": [
      "RMSE value for k =  1 is: 603.8088570908953\n",
      "RMSE value for k =  2 is: 538.7503153564013\n",
      "RMSE value for k =  3 is: 529.8501874946314\n",
      "RMSE value for k =  4 is: 523.5425544674774\n",
      "RMSE value for k =  5 is: 522.4655435976725\n",
      "RMSE value for k =  6 is: 518.2370006903984\n",
      "RMSE value for k =  7 is: 518.6513268830864\n",
      "RMSE value for k =  8 is: 521.5933811598212\n",
      "RMSE value for k =  9 is: 523.1984613188978\n",
      "RMSE value for k =  10 is: 525.7762866479852\n"
     ]
    }
   ],
   "source": [
    "# Finding the optimal k value\n",
    "from sklearn import neighbors\n",
    "from sklearn.metrics import mean_squared_error\n",
    "from math import sqrt\n",
    "import matplotlib.pyplot as plt\n",
    "rmse_val = []  \n",
    "for K in range(10):\n",
    "    K = K+1\n",
    "    model = neighbors.KNeighborsRegressor(n_neighbors=K)\n",
    "\n",
    "    model.fit(X_train, y_train)  \n",
    "    pred = model.predict(X_test)  \n",
    "    error = sqrt(mean_squared_error(y_test, pred))  \n",
    "    rmse_val.append(error)  \n",
    "    print('RMSE value for k = ', K, 'is:', error)"
   ]
  },
  {
   "cell_type": "code",
   "execution_count": 31,
   "id": "5c7228e9",
   "metadata": {},
   "outputs": [
    {
     "data": {
      "text/plain": [
       "array([[1625. ],\n",
       "       [3859.4],\n",
       "       [2571.4],\n",
       "       ...,\n",
       "       [6547.2],\n",
       "       [2446.8],\n",
       "       [1765.4]])"
      ]
     },
     "execution_count": 31,
     "metadata": {},
     "output_type": "execute_result"
    }
   ],
   "source": [
    "# Using the optimal k value.\n",
    "from sklearn import neighbors\n",
    "\n",
    "model = neighbors.KNeighborsRegressor(n_neighbors=5)\n",
    "\n",
    "model.fit(X_train, y_train)  # fit the model\n",
    "pred = model.predict(X_test)\n",
    "pred"
   ]
  },
  {
   "cell_type": "markdown",
   "id": "1d6eaab3",
   "metadata": {},
   "source": [
    "## Final comparision of sklearn and knn_from_scratch"
   ]
  },
  {
   "cell_type": "code",
   "execution_count": 32,
   "id": "aa7a6f58",
   "metadata": {},
   "outputs": [
    {
     "name": "stdout",
     "output_type": "stream",
     "text": [
      "Predicted values using sklearn: [[1625. ]\n",
      " [3859.4]\n",
      " [2571.4]\n",
      " ...\n",
      " [6547.2]\n",
      " [2446.8]\n",
      " [1765.4]]\n",
      "Predicted values using knn_from_scratch: [1625.  3859.4 2571.4 ... 6547.2 2446.8 1765.4]\n"
     ]
    }
   ],
   "source": [
    "print(\"Predicted values using sklearn:\",pred)\n",
    "print(\"Predicted values using knn_from_scratch:\",knn_scratch_pred)"
   ]
  },
  {
   "cell_type": "code",
   "execution_count": 33,
   "id": "14dbdb96",
   "metadata": {},
   "outputs": [
    {
     "data": {
      "text/html": [
       "<div>\n",
       "<style scoped>\n",
       "    .dataframe tbody tr th:only-of-type {\n",
       "        vertical-align: middle;\n",
       "    }\n",
       "\n",
       "    .dataframe tbody tr th {\n",
       "        vertical-align: top;\n",
       "    }\n",
       "\n",
       "    .dataframe thead th {\n",
       "        text-align: right;\n",
       "    }\n",
       "</style>\n",
       "<table border=\"1\" class=\"dataframe\">\n",
       "  <thead>\n",
       "    <tr style=\"text-align: right;\">\n",
       "      <th></th>\n",
       "      <th>sklearn_preds</th>\n",
       "      <th>my_knn_preds</th>\n",
       "    </tr>\n",
       "  </thead>\n",
       "  <tbody>\n",
       "    <tr>\n",
       "      <th>0</th>\n",
       "      <td>1625.0</td>\n",
       "      <td>1625.0</td>\n",
       "    </tr>\n",
       "    <tr>\n",
       "      <th>1</th>\n",
       "      <td>3859.4</td>\n",
       "      <td>3859.4</td>\n",
       "    </tr>\n",
       "    <tr>\n",
       "      <th>2</th>\n",
       "      <td>2571.4</td>\n",
       "      <td>2571.4</td>\n",
       "    </tr>\n",
       "    <tr>\n",
       "      <th>3</th>\n",
       "      <td>2209.8</td>\n",
       "      <td>2209.8</td>\n",
       "    </tr>\n",
       "    <tr>\n",
       "      <th>4</th>\n",
       "      <td>1346.0</td>\n",
       "      <td>1346.0</td>\n",
       "    </tr>\n",
       "    <tr>\n",
       "      <th>...</th>\n",
       "      <td>...</td>\n",
       "      <td>...</td>\n",
       "    </tr>\n",
       "    <tr>\n",
       "      <th>11599</th>\n",
       "      <td>2397.6</td>\n",
       "      <td>2397.6</td>\n",
       "    </tr>\n",
       "    <tr>\n",
       "      <th>11600</th>\n",
       "      <td>886.0</td>\n",
       "      <td>886.0</td>\n",
       "    </tr>\n",
       "    <tr>\n",
       "      <th>11601</th>\n",
       "      <td>6547.2</td>\n",
       "      <td>6547.2</td>\n",
       "    </tr>\n",
       "    <tr>\n",
       "      <th>11602</th>\n",
       "      <td>2446.8</td>\n",
       "      <td>2446.8</td>\n",
       "    </tr>\n",
       "    <tr>\n",
       "      <th>11603</th>\n",
       "      <td>1765.4</td>\n",
       "      <td>1765.4</td>\n",
       "    </tr>\n",
       "  </tbody>\n",
       "</table>\n",
       "<p>11604 rows × 2 columns</p>\n",
       "</div>"
      ],
      "text/plain": [
       "       sklearn_preds  my_knn_preds\n",
       "0             1625.0        1625.0\n",
       "1             3859.4        3859.4\n",
       "2             2571.4        2571.4\n",
       "3             2209.8        2209.8\n",
       "4             1346.0        1346.0\n",
       "...              ...           ...\n",
       "11599         2397.6        2397.6\n",
       "11600          886.0         886.0\n",
       "11601         6547.2        6547.2\n",
       "11602         2446.8        2446.8\n",
       "11603         1765.4        1765.4\n",
       "\n",
       "[11604 rows x 2 columns]"
      ]
     },
     "execution_count": 33,
     "metadata": {},
     "output_type": "execute_result"
    }
   ],
   "source": [
    "sklearn_pred = pred.reshape(-1,1)\n",
    "my_knn_pred = knn_scratch_pred.reshape(-1,1)\n",
    "predicted_values = np.hstack([sklearn_pred,my_knn_pred])\n",
    "pred_df = pd.DataFrame(predicted_values,columns=['sklearn_preds','my_knn_preds'])\n",
    "pred_df"
   ]
  },
  {
   "cell_type": "markdown",
   "id": "e626c0d8",
   "metadata": {},
   "source": [
    "> Conclusion: With Sklearn or without sklearn outputs are exactly same."
   ]
  },
  {
   "cell_type": "code",
   "execution_count": null,
   "id": "7ba8ac25",
   "metadata": {},
   "outputs": [],
   "source": []
  }
 ],
 "metadata": {
  "kernelspec": {
   "display_name": "Python 3 (ipykernel)",
   "language": "python",
   "name": "python3"
  },
  "language_info": {
   "codemirror_mode": {
    "name": "ipython",
    "version": 3
   },
   "file_extension": ".py",
   "mimetype": "text/x-python",
   "name": "python",
   "nbconvert_exporter": "python",
   "pygments_lexer": "ipython3",
   "version": "3.9.12"
  }
 },
 "nbformat": 4,
 "nbformat_minor": 5
}

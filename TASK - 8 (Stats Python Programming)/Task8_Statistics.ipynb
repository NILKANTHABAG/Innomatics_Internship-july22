{
 "cells": [
  {
   "cell_type": "markdown",
   "metadata": {
    "id": "IPZcN1afyo8f"
   },
   "source": [
    "# <center> Assignment </center>\n",
    "# <center>Task - 8 (Statistics) </center>"
   ]
  },
  {
   "cell_type": "markdown",
   "metadata": {
    "id": "SX1hsDumyMkR"
   },
   "source": [
    "\n",
    "**Problem URL**\n",
    "\n",
    "\n",
    "1\n",
    "https://www.hackerrank.com/challenges/s10-binomial-distribution-1\n",
    "\n",
    "2\n",
    "https://www.hackerrank.com/challenges/s10-binomial-distribution-2\n",
    "\n",
    "3\n",
    "https://www.hackerrank.com/challenges/s10-normal-distribution-1\n",
    "\n",
    "4\n",
    "https://www.hackerrank.com/challenges/s10-normal-distribution-2\n",
    "\n",
    "5\n",
    "https://www.hackerrank.com/challenges/s10-the-central-limit-theorem-1\n",
    "\n",
    "6\n",
    "https://www.hackerrank.com/challenges/s10-the-central-limit-theorem-2\n",
    "\n",
    "7\n",
    "https://www.hackerrank.com/challenges/s10-the-central-limit-theorem-3\n",
    "\n",
    "8\n",
    "https://www.hackerrank.com/challenges/s10-pearson-correlation-coefficient\n",
    "\n",
    "9\n",
    "https://www.hackerrank.com/challenges/s10-least-square-regression-line\n",
    "\n",
    "10\n",
    "https://www.hackerrank.com/challenges/s10-multiple-linear-regression\n",
    "\n"
   ]
  },
  {
   "cell_type": "markdown",
   "metadata": {
    "id": "n8DxhdoIsBMV"
   },
   "source": [
    "**Solutions:**"
   ]
  },
  {
   "cell_type": "markdown",
   "metadata": {
    "id": "7LhA5oMszNHk"
   },
   "source": [
    "## Binomial Distribution I"
   ]
  },
  {
   "cell_type": "code",
   "execution_count": 1,
   "metadata": {
    "colab": {
     "base_uri": "https://localhost:8080/"
    },
    "id": "QKvwVFEgxypW",
    "outputId": "3632204a-23c0-44fa-a059-fadb004f05b0"
   },
   "outputs": [
    {
     "name": "stdout",
     "output_type": "stream",
     "text": [
      "1.09 1\n",
      "0.696\n"
     ]
    }
   ],
   "source": [
    "def factorial(n):\n",
    "    if n == 1 or n == 0:\n",
    "        return 1\n",
    "    if n > 1:\n",
    "        return factorial(n - 1) * n\n",
    "def binomial(x, n, p):\n",
    "    f = factorial(n) / (factorial(n - x) * factorial(x))\n",
    "    return (f * p**x * (1.0 - p) ** (n-x))\n",
    "\n",
    "\n",
    "values = list(map(float, input().split()))\n",
    "p = values[0] / (values[0] + values[1])\n",
    "n = 6 #child\n",
    "result = binomial(3,n,p) + binomial(4,n,p) + binomial(5,n,p) + binomial(6,n,p)\n",
    "print(round(result, 3))"
   ]
  },
  {
   "cell_type": "markdown",
   "metadata": {
    "id": "QhzTbWvQ1vfZ"
   },
   "source": [
    "## Binomial Distribution II"
   ]
  },
  {
   "cell_type": "code",
   "execution_count": 2,
   "metadata": {
    "colab": {
     "base_uri": "https://localhost:8080/"
    },
    "id": "kD-HnLfr1vx6",
    "outputId": "2cdbeec4-6cd5-47c6-f4e6-afc0c23a49f0"
   },
   "outputs": [
    {
     "name": "stdout",
     "output_type": "stream",
     "text": [
      "12 10\n",
      "0.891\n",
      "0.342\n"
     ]
    }
   ],
   "source": [
    "def factorial(n):\n",
    "    if n == 1 or n == 0:\n",
    "        return 1\n",
    "    if n > 1:\n",
    "        return factorial(n - 1) * n\n",
    "\n",
    "def binomial(x, n, p):\n",
    "    f = factorial(n) / (factorial(n - x) * factorial(x))\n",
    "    return (f * p**x * (1.0 - p)**(n-x))\n",
    "\n",
    "values = list(map(float, input().split()))\n",
    "p = (values[0] / 100)\n",
    "n = int(values[1])\n",
    "\n",
    "no_more_than_2_rejects = 0\n",
    "for i in range(n):\n",
    "    if i < 3:\n",
    "        no_more_than_2_rejects = no_more_than_2_rejects + binomial(i, n, p)\n",
    "print(round(no_more_than_2_rejects, 3))\n",
    "\n",
    "at_least_2_rejects = 0\n",
    "for i in range(n):\n",
    "    if i > 1:\n",
    "        at_least_2_rejects = at_least_2_rejects + binomial(i, n, p)\n",
    "print(round(at_least_2_rejects, 3))"
   ]
  },
  {
   "cell_type": "markdown",
   "metadata": {
    "id": "_0rJF_NDVy9T"
   },
   "source": [
    "## Normal Distribution I"
   ]
  },
  {
   "cell_type": "code",
   "execution_count": 4,
   "metadata": {
    "colab": {
     "base_uri": "https://localhost:8080/"
    },
    "id": "5d_IMHezVzX_",
    "outputId": "c8a89b7d-3b77-45cc-db60-cf8536b8760e"
   },
   "outputs": [
    {
     "name": "stdout",
     "output_type": "stream",
     "text": [
      "20 2\n",
      "19.5\n",
      "20 22\n",
      "0.401\n",
      "0.341\n"
     ]
    }
   ],
   "source": [
    "import math\n",
    "def cumulative(mean, std, value):\n",
    "    return 0.5 * (1 + math.erf((value - mean) / (std * (2 ** 0.5))))\n",
    "initial_values = list(map(float, input().split()))\n",
    "mean = initial_values[0]\n",
    "std = initial_values[1]\n",
    "less_period = float(input())\n",
    "between_period = list(map(float, input().split()))\n",
    "\n",
    "print(round(cumulative(mean, std, less_period),3))\n",
    "print(round(cumulative(mean, std, between_period[1]) - cumulative(mean, std, between_period[0]), 3))"
   ]
  },
  {
   "cell_type": "markdown",
   "metadata": {
    "id": "MGrA9zWLXPiV"
   },
   "source": [
    "## Normal Distribution II"
   ]
  },
  {
   "cell_type": "code",
   "execution_count": 7,
   "metadata": {
    "colab": {
     "base_uri": "https://localhost:8080/"
    },
    "id": "8MhkXFtCXO38",
    "outputId": "5d47fc62-511a-4cc1-e5fb-fec0d07d563b"
   },
   "outputs": [
    {
     "name": "stdout",
     "output_type": "stream",
     "text": [
      "15.87\n",
      "84.13\n",
      "15.87\n"
     ]
    }
   ],
   "source": [
    "import math\n",
    "mean, std = 70, 10\n",
    "cdf = lambda x: 0.5 * (1 + math.erf((x - mean) / (std * (2 ** 0.5))))\n",
    "\n",
    "\n",
    "print(round((1-cdf(80))*100,2))\n",
    "print(round((1-cdf(60))*100,2))\n",
    "print(round((cdf(60))*100,2))"
   ]
  },
  {
   "cell_type": "markdown",
   "metadata": {
    "id": "CjbzCML1KZ0R"
   },
   "source": [
    "## The Central Limit Theorem I"
   ]
  },
  {
   "cell_type": "code",
   "execution_count": 8,
   "metadata": {
    "colab": {
     "base_uri": "https://localhost:8080/"
    },
    "id": "wZLGgPEpKaIC",
    "outputId": "9958cace-0760-4d98-d40e-f00e79745d6d"
   },
   "outputs": [
    {
     "name": "stdout",
     "output_type": "stream",
     "text": [
      "9800\n",
      "49\n",
      "205\n",
      "15\n",
      "0.0098\n"
     ]
    }
   ],
   "source": [
    "import math\n",
    "\n",
    "def cumulative(mean, std, value):\n",
    "    return 0.5 * (1 + math.erf((value - mean) / (std * (2 ** 0.5))))\n",
    "\n",
    "max_weight = float(input())\n",
    "n = float(input())\n",
    "mean = float(input())\n",
    "std = float(input())\n",
    "new_mean = mean * n\n",
    "new_std = math.sqrt(n) * std\n",
    "\n",
    "print(round(cumulative(new_mean, new_std, max_weight),4))"
   ]
  },
  {
   "cell_type": "markdown",
   "metadata": {
    "id": "WaLcGuQ4LpM6"
   },
   "source": [
    "## The Central Limit Theorem II"
   ]
  },
  {
   "cell_type": "code",
   "execution_count": 9,
   "metadata": {
    "colab": {
     "base_uri": "https://localhost:8080/"
    },
    "id": "Wyh7PfDmLpuE",
    "outputId": "5d3791fd-fff9-4e21-c1ac-8c41a7bf2518"
   },
   "outputs": [
    {
     "name": "stdout",
     "output_type": "stream",
     "text": [
      "250\n",
      "100\n",
      "2.4\n",
      "2.0\n",
      "0.6915\n"
     ]
    }
   ],
   "source": [
    "import math\n",
    "\n",
    "numTic = float(input())\n",
    "numStd = float(input())\n",
    "mu = numStd * float(input())\n",
    "sig = math.sqrt(numStd) * float(input())\n",
    "\n",
    "print(round(0.5*(1+math.erf((numTic - mu)/(sig * math.sqrt(2)))),4))"
   ]
  },
  {
   "cell_type": "markdown",
   "metadata": {
    "id": "cB6_GrtrMlro"
   },
   "source": [
    "## The Central Limit Theorem III"
   ]
  },
  {
   "cell_type": "code",
   "execution_count": 10,
   "metadata": {
    "colab": {
     "base_uri": "https://localhost:8080/"
    },
    "id": "f3cdirkAMmNt",
    "outputId": "183bde54-fe52-4d84-9b70-9279f311cbe8"
   },
   "outputs": [
    {
     "name": "stdout",
     "output_type": "stream",
     "text": [
      "484.32\n",
      "515.68\n"
     ]
    }
   ],
   "source": [
    "# true population distribution\n",
    "mu, sigma = 500, 80\n",
    "\n",
    "# sample mean distribution\n",
    "muS, sigmaS = mu, sigma/(100**0.5)\n",
    "\n",
    "# confidence intervals of sample mean dist\n",
    "A = mu - (1.96*sigmaS)\n",
    "B = mu + (1.96*sigmaS)\n",
    "\n",
    "print(round(A,2))\n",
    "print(round(B,2))"
   ]
  },
  {
   "cell_type": "markdown",
   "metadata": {
    "id": "s-TGK-QpMDSR"
   },
   "source": [
    "## Pearson Correlation Coefficient I"
   ]
  },
  {
   "cell_type": "code",
   "execution_count": 11,
   "metadata": {
    "colab": {
     "base_uri": "https://localhost:8080/"
    },
    "id": "6mUOwXZfJ6st",
    "outputId": "ad7b91c1-f3fc-4b9d-8111-eb9f146171d2"
   },
   "outputs": [
    {
     "name": "stdout",
     "output_type": "stream",
     "text": [
      "10\n",
      "10 9.8 8 7.8 7.7 7 6 5 4 2 \n",
      "200 44 32 24 22 17 15 12 8 4\n",
      "0.612\n"
     ]
    }
   ],
   "source": [
    "import statistics\n",
    "\n",
    "def correlation_coefficient(n, dt_x, dt_y):\n",
    "    mean_x = statistics.mean(dt_x)\n",
    "    mean_y = statistics.mean(dt_y)\n",
    "    std_x = statistics.pstdev(dt_x)\n",
    "    std_y = statistics.pstdev(dt_y)\n",
    "    c = 0\n",
    "    for i in range(n):\n",
    "        c = c + (dt_x[i] - mean_x) * (dt_y[i] - mean_y)\n",
    "    return c / (n * std_x * std_y)\n",
    "\n",
    "n = int(float(input()))\n",
    "data_set_x = list(map(float, input().split()))\n",
    "data_set_y = list(map(float, input().split()))\n",
    "print(round(correlation_coefficient(n, data_set_x, data_set_y), 3))\n"
   ]
  },
  {
   "cell_type": "markdown",
   "metadata": {
    "id": "Xs-8FOASrv9I"
   },
   "source": [
    "## Least Square Regression Line"
   ]
  },
  {
   "cell_type": "code",
   "execution_count": 12,
   "metadata": {
    "colab": {
     "base_uri": "https://localhost:8080/"
    },
    "id": "s845gZSvrvs-",
    "outputId": "627a4d70-ef3e-40e5-ca29-03240b390aed"
   },
   "outputs": [
    {
     "name": "stdout",
     "output_type": "stream",
     "text": [
      "78.288\n"
     ]
    }
   ],
   "source": [
    "import statistics as st\n",
    "\n",
    "n = 5\n",
    "x = [95, 85, 80, 70, 60]\n",
    "y = [85, 95, 70, 65, 70]\n",
    "mean_x = st.mean(x)\n",
    "mean_y = st.mean(y)\n",
    "x_squared = sum([x[i] ** 2 for i in range(5)])\n",
    "xy = sum([x[i]*y[i] for i in range(5)])\n",
    "\n",
    "b = (n * xy - sum(x) * sum(y)) / (n * x_squared - (sum(x) ** 2))\n",
    "a = mean_y - b * mean_x\n",
    "print (round(a + 80 * b, 3))"
   ]
  },
  {
   "cell_type": "markdown",
   "metadata": {},
   "source": [
    "# Multiple Linear Regression"
   ]
  },
  {
   "cell_type": "code",
   "execution_count": 13,
   "metadata": {},
   "outputs": [
    {
     "name": "stdout",
     "output_type": "stream",
     "text": [
      "2 7\n",
      "0.18 0.89 109.85\n",
      "1.0 0.26 155.72\n",
      "0.92 0.11 137.66\n",
      "0.07 0.37 76.17\n",
      "0.85 0.16 139.75\n",
      "0.99 0.41 162.6\n",
      "0.87 0.47 151.77\n",
      "4\n",
      "0.49 0.18\n",
      "0.57 0.83\n",
      "0.56 0.64\n",
      "0.76 0.18\n",
      "105.21\n",
      "142.67\n",
      "132.94\n",
      "129.7\n"
     ]
    }
   ],
   "source": [
    "import numpy as np\n",
    "m,n = [int(i) for i in input().strip().split(' ')]\n",
    "X = []\n",
    "Y = []\n",
    "for i in range(n):\n",
    "    data = input().strip().split(' ')\n",
    "    X.append(data[:m])\n",
    "    Y.append(data[m:])\n",
    "q = int(input().strip())\n",
    "X_new = []\n",
    "for x in range(q):\n",
    "    X_new.append(input().strip().split(' '))\n",
    "X = np.array(X,float)\n",
    "Y = np.array(Y,float)\n",
    "X_new = np.array(X_new,float)\n",
    "\n",
    "#center\n",
    "X_R = X-np.mean(X,axis=0)\n",
    "Y_R = Y-np.mean(Y)\n",
    "\n",
    "#calculate beta\n",
    "beta = np.dot(np.linalg.inv(np.dot(X_R.T,X_R)),np.dot(X_R.T,Y_R))\n",
    "\n",
    "#predict\n",
    "X_new_R = X_new-np.mean(X,axis=0)\n",
    "Y_new_R = np.dot(X_new_R,beta)\n",
    "Y_new = Y_new_R + np.mean(Y)\n",
    "\n",
    "#print\n",
    "for i in Y_new:\n",
    "    print(round(float(i),2))"
   ]
  },
  {
   "cell_type": "markdown",
   "metadata": {},
   "source": [
    "# <center>THE END</center>"
   ]
  }
 ],
 "metadata": {
  "colab": {
   "authorship_tag": "ABX9TyNEYer/7cH1sHg/odalTkTN",
   "include_colab_link": true,
   "name": "Task8_Statistics.ipynb",
   "provenance": []
  },
  "kernelspec": {
   "display_name": "Python 3 (ipykernel)",
   "language": "python",
   "name": "python3"
  },
  "language_info": {
   "codemirror_mode": {
    "name": "ipython",
    "version": 3
   },
   "file_extension": ".py",
   "mimetype": "text/x-python",
   "name": "python",
   "nbconvert_exporter": "python",
   "pygments_lexer": "ipython3",
   "version": "3.9.12"
  }
 },
 "nbformat": 4,
 "nbformat_minor": 1
}
